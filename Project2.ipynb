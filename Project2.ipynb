{
 "cells": [
  {
   "cell_type": "markdown",
   "id": "6f28db44-cf86-4893-8a23-4275cefd8340",
   "metadata": {},
   "source": [
    "# Project 2 \n",
    "\n",
    "### Introduction\n",
    "\n",
    "In this project we will solve a 2D advection-diffusion problem given by\n",
    "\n",
    "\\begin{equation}\n",
    "    \\begin{aligned}\n",
    "        -\\Delta u + \\mathbf{v} \\cdot \\nabla u &= f, \\quad &&0 \\leq x,y \\leq 1 \\\\\n",
    "        u &= g,  \\quad &&\\text{on the boundary.}\n",
    "    \\end{aligned}\n",
    "    \\tag{1}\n",
    "\\end{equation}\n",
    "\n",
    "To solve this problem we will use three different methods;  GMRES, multigrid V-cycle, and a preconditioned GMRES method using the multigrid V-cycle as a preconditioner. For simplicity, we assume that the velocity field $\\mathbf{v} = [v_1, v_2]^T \\geq \\mathbf{0}$, in the sence that $v_1, v_2 \\geq 0$. We also use an equidistant grid with stepsize $h = \\frac{1}{N}$, such that $u_{i,j} = u(x_i,y_j) = u(ih,jh)$ and similarly for $f_{i,j}$. For the discretization of the problem we use a 5-point stencil for the diffusion term and an upwind scheme for the advection term, hence we get the following formula\n",
    "\n",
    "\\begin{equation}\n",
    "    \\begin{aligned}\n",
    "        (4U_{i,j}- U_{i+1,j} - U_{i-1,j} -U_{i,j+1} -U_{i,j-1}) + hv_1(U_{i,j} - U_{i-1,j}) + hv_2(U_{i,j} - U_{i,j-1}) =  h^2f_{i,j}.\n",
    "    \\end{aligned}\n",
    "    \\tag{2}\n",
    "\\end{equation}\n",
    "\n",
    "For simplicity we choose $\\mathbf{v} = [1,1]$ and an excact solution $u(x,y) = \\sin(\\pi x)\\sin(2\\pi y)$. By balancing the equation using (1) we get that the right hand sides becomes \n",
    "\n",
    "\\begin{equation}\n",
    "    \\begin{aligned}\n",
    "       f(x,y) &= -\\Delta u + \\mathbf{v} \\cdot \\nabla u = 5\\pi^2 \\sin(\\pi x)\\sin(2\\pi y) + \\pi \\cos(\\pi x)\\sin(2\\pi y) + 2\\pi \\sin(\\pi x)\\cos(2\\pi y) \\\\\n",
    "       g &= 0\n",
    "    \\end{aligned}\n",
    "    \\tag{3}\n",
    "\\end{equation}"
   ]
  },
  {
   "cell_type": "code",
   "execution_count": 2,
   "id": "03e6179d-4dce-47fe-a505-58db3245ae4c",
   "metadata": {},
   "outputs": [],
   "source": [
    "import numpy as np\n",
    "import matplotlib.pyplot as plt\n",
    "from scipy.sparse.linalg import gmres, LinearOperator\n",
    "from time import perf_counter"
   ]
  },
  {
   "cell_type": "markdown",
   "id": "10928c7c-5e34-4dfa-a372-11f6eceedef2",
   "metadata": {},
   "source": [
    "### Task (0)"
   ]
  },
  {
   "cell_type": "markdown",
   "id": "f8fa9f9c-dd41-40a7-9746-b9b5662d84ef",
   "metadata": {},
   "source": [
    "Now we try and solve the problem for different values of $N$ on the grid, for a random guess U"
   ]
  },
  {
   "cell_type": "code",
   "execution_count": 22,
   "id": "7b944678-c0e6-4b2b-bb0a-a47a1263836d",
   "metadata": {},
   "outputs": [],
   "source": [
    "def lhs_func(U, N, v=np.array([1, 1])):\n",
    "    \"\"\"Computes the left-hand side vector based on the input array U for diffusion-advection problem.\"\"\"\n",
    "    h = 1 / N\n",
    "    U = np.reshape(U, (N+1,N+1))\n",
    "    lhs = np.zeros((N + 1, N + 1))     # Initialize LHS with zeros \n",
    "    for i in range(1, N):               # Skip boundaries\n",
    "        for j in range(1, N):\n",
    "            lhs[i, j] = (4 * U[i, j] - U[i + 1, j] - U[i-1, j] - U[i, j + 1] - U[i, j - 1]\n",
    "                          + v[0] * h * (U[i, j] - U[i-1, j]) + v[1] * h * (U[i, j] - U[i, j-1]))\n",
    "    return lhs"
   ]
  },
  {
   "cell_type": "code",
   "execution_count": 24,
   "id": "7954c5e9-42f6-4c79-9935-5d51c0b5c750",
   "metadata": {},
   "outputs": [],
   "source": [
    "def rhs_func(N, v=np.array([1, 1])):\n",
    "    \"\"\"Constructs the right-hand side vector f based on the analytical solution.\"\"\"\n",
    "    h = 1 / N\n",
    "    x = np.linspace(0, 1, N + 1)\n",
    "    y = np.linspace(0, 1, N + 1)\n",
    "    X, Y = np.meshgrid(x, -y)\n",
    "    \n",
    "    # Analytical function for f based on the exact solution u(x, y) = sin(pi x) * sin(2 * pi y)\n",
    "    f = np.pi*(5 * np.pi * np.sin(np.pi * X) * np.sin(2 * np.pi * Y) +\n",
    "            v[0] * np.cos(np.pi * X) * np.sin(2 * np.pi * Y) +\n",
    "            v[1] * 2*np.sin(np.pi * X) * np.cos(2 * np.pi * Y))\n",
    "\n",
    "    f[:, 0] = 0  # Left boundary\n",
    "    f[:, -1] = 0  # Right boundary\n",
    "    f[0, :] = 0  # Bottom boundary\n",
    "    f[-1, :] = 0  # Top boundary\n",
    "\n",
    "    # Scale by h^2 as per the finite difference scheme\n",
    "    return (h ** 2) * f"
   ]
  },
  {
   "cell_type": "code",
   "execution_count": 44,
   "id": "28e21ba1-840c-474c-98be-9c9d5a509775",
   "metadata": {},
   "outputs": [],
   "source": [
    "\n",
    "def solve_scipy_gmres(U0, N, v=np.array([1, 1]), tol=1e-10):\n",
    "    \"\"\"Solve the diffusion-advection problem using GMRES for a grid of size (N+1) x (N+1).\"\"\"\n",
    "    x0 = U0.flatten()  # Flatten the initial guess\n",
    "    A = LinearOperator((x0.size, x0.size), matvec=lambda u_flat: lhs_func(u_flat.reshape((N+1, N+1)), N, v).flatten())\n",
    "    # Compute the right-hand side using rhs_func and flatten it to a 1D vector\n",
    "    b = rhs_func(N, v).flatten()  # A (N+1)^2 vector for the rhs\n",
    "    u_flat, exitCode = gmres(A, b, x0=x0, tol=tol)\n",
    "    if exitCode != 0:\n",
    "        print(\"GMRES did not converge\")\n",
    "    return u_flat.reshape((N+1, N+1))\n"
   ]
  },
  {
   "cell_type": "code",
   "execution_count": 8,
   "id": "d24e013d-f50a-4a18-b574-95abb80f1c94",
   "metadata": {},
   "outputs": [],
   "source": [
    "def u_exact(N):\n",
    "    x = np.linspace(0, 1, N + 1)\n",
    "    y = np.linspace(0, 1, N + 1)\n",
    "    X, Y = np.meshgrid(x, -y)\n",
    "    \n",
    "    # Compute the exact solution at each grid point\n",
    "    u_exact = np.sin(np.pi * X) * np.sin(2 * np.pi * Y)\n",
    "    \n",
    "    return u_exact"
   ]
  },
  {
   "cell_type": "code",
   "execution_count": 9,
   "id": "f3bc59ec-a179-4c32-b1b7-f93bd5dca167",
   "metadata": {},
   "outputs": [
    {
     "data": {
      "text/plain": [
       "<matplotlib.colorbar.Colorbar at 0x1a781b563d0>"
      ]
     },
     "execution_count": 9,
     "metadata": {},
     "output_type": "execute_result"
    },
    {
     "data": {
      "image/png": "[encoded data removed]",
      "text/plain": [
       "<Figure size 640x480 with 2 Axes>"
      ]
     },
     "metadata": {},
     "output_type": "display_data"
    }
   ],
   "source": [
    "u_ex = u_exact(30)\n",
    "plt.imshow(u_ex, extent = [0,1,0,1])\n",
    "plt.colorbar()\n"
   ]
  },
  {
   "cell_type": "code",
   "execution_count": 46,
   "id": "c27ffd3a-6850-4826-8bc7-3f80a67db3e4",
   "metadata": {
    "scrolled": true
   },
   "outputs": [
    {
     "data": {
      "image/png": "[encoded data removed]",
      "text/plain": [
       "<Figure size 640x480 with 2 Axes>"
      ]
     },
     "metadata": {},
     "output_type": "display_data"
    }
   ],
   "source": [
    "N = 30\n",
    "U0 = np.ones((N+1,N+1))  # Random initial guess\n",
    "u = solve_scipy_gmres(U0, N, v=np.array([1, 1]), tol=1e-10)\n",
    "\n",
    "\n",
    "# Plot the result\n",
    "plt.imshow(u, extent=[0, 1, 0, 1])\n",
    "plt.colorbar()\n",
    "plt.title(\"Solution obtained using GMRES\")\n",
    "plt.show()"
   ]
  },
  {
   "cell_type": "code",
   "execution_count": 48,
   "id": "fe091e92-f3f7-4183-a12b-d6b6f98d5ebc",
   "metadata": {},
   "outputs": [
    {
     "data": {
      "image/png": "[encoded data removed]",
      "text/plain": [
       "<Figure size 640x480 with 2 Axes>"
      ]
     },
     "metadata": {},
     "output_type": "display_data"
    }
   ],
   "source": [
    "error = u - u_ex\n",
    "plt.imshow(error, extent=[0, 1, 0, 1])\n",
    "plt.colorbar()\n",
    "plt.title(\"Error plot for scipy GMRES\")\n",
    "plt.show()"
   ]
  },
  {
   "cell_type": "markdown",
   "id": "4a7a2dd5-afd3-4725-a460-4f60004b10ba",
   "metadata": {},
   "source": [
    "### Task (1)\n",
    "\n",
    "Firstly we create a orthonormal basis for the Krylov subspace using Arnoldi's method"
   ]
  },
  {
   "cell_type": "code",
   "execution_count": 50,
   "id": "6fa99a8b-5f24-44d9-b0ff-3d467156db23",
   "metadata": {},
   "outputs": [],
   "source": [
    "# Arnoldi function\n",
    "def arnoldi( m, N, omega, v=np.array([1, 1])):\n",
    "    \"\"\"\n",
    "    Arnoldi's method to generate an orthonormal basis for the Krylov subspace\n",
    "    \n",
    "    Parameters:\n",
    "        U0: Initial guess matrix\n",
    "        v: The starting vector\n",
    "        k: The number of basis vectors to compute.\n",
    "        N: Grid size\n",
    "        omega: Initial residual or starting vector\n",
    "    \n",
    "    Returns:\n",
    "        V: The orthonormal basis vectors\n",
    "        H: The upper Hessenberg matrix \n",
    "    \"\"\"\n",
    "    n = (N+1)**2  # Total number of grid points including boundary\n",
    "    V = np.zeros((n, m+1))  # Orthonormal basis\n",
    "    H = np.zeros((m+1, m))  # Upper Hessenberg matrix with k+1 rows\n",
    "    \n",
    "    # Normalize the first vector\n",
    "    V[:,0] = omega / np.linalg.norm(omega)\n",
    "    for j in range(m):\n",
    "        # Compute the next vector using lhs_func to apply the operator\n",
    "        w = lhs_func(V[:, j], N, v).flatten()  # Apply the operator to the vector V[:, j]\n",
    "        # Orthogonalization against previous vectors\n",
    "        for i in range(j+1):\n",
    "            H[i, j] = np.dot(V[:, i], w)\n",
    "            w -= H[i, j] * V[:, i]\n",
    "        H[j + 1, j] = np.linalg.norm(w)\n",
    "        if np.abs(H[j+1,j]) <= 1.e-12:\n",
    "            print(\"H[j+1,j] is close to 0\")            \n",
    "            break\n",
    "        V[:,j+1] = w/H[j+1,j]\n",
    "    return V, H \n",
    "\n"
   ]
  },
  {
   "cell_type": "code",
   "execution_count": 64,
   "id": "b97b2dc9-a80a-4976-bfb5-e82309e96d01",
   "metadata": {},
   "outputs": [],
   "source": [
    "# Restarted GMRES method\n",
    "def restarted_gmres(U0, m, N, tol=1e-4, v=np.array([1, 1])):\n",
    "    \"\"\"\n",
    "    Restarted GMRES method using Arnoldi's method to solve Ax = b.\n",
    "\n",
    "    Parameters:\n",
    "        U0: The initial guess matrix \n",
    "        m: Number of iterations before restart.\n",
    "        tol: Convergence tolerance.\n",
    "        N: Grid size\n",
    "        v: Advection speed\n",
    "    \n",
    "    Returns:\n",
    "        x: The computed solution vector\n",
    "        count: Number of iterations\n",
    "        time: Converging time\n",
    "    \"\"\"\n",
    "    start = perf_counter()\n",
    "    x = U0.copy().flatten()      #Initial guess vector\n",
    "    b = rhs_func(N, v).flatten()  # Right-hand side vector\n",
    "    r_0 = b - lhs_func(x, N, v).flatten()  #Error matrix\n",
    "    norm_r0 = np.linalg.norm(r_0)\n",
    "    \n",
    "    if norm_r0 < tol:  # Already converged\n",
    "        return x, 0, 0\n",
    "    \n",
    "    beta = norm_r0\n",
    "    omega_1 = r_0 / beta  # Normalize the initial residual\n",
    "    count = 0\n",
    "    \n",
    "    while True:\n",
    "        V, H = arnoldi(m, N, omega=omega_1, v=v)  # Create an Arnoldi basis\n",
    "        try:\n",
    "            y = np.linalg.solve(H, np.dot(V.T, b - lhs_func(x, N, v).flatten())) \n",
    "        except np.linalg.LinAlgError:\n",
    "            y = np.linalg.pinv(H) @ np.dot(V.T, b - lhs_func(x, N, v).flatten())  #Use the moore penrose inverse if H is singular\n",
    "        x += V[:, :y.size] @ y  # Only use the relevant part of V and y\n",
    "        r_m = b - lhs_func(x, N, v).flatten()  # New residual\n",
    "        count += 1\n",
    "        \n",
    "        if np.linalg.norm(r_m) / norm_r0 < tol:  # Check convergence\n",
    "            break\n",
    "        \n",
    "        # Prepare for the next restart\n",
    "        r_0 = r_m  # Update the residual for the next iteration\n",
    "        beta = np.linalg.norm(r_0)\n",
    "        omega_1 = r_0 / beta  # Normalize the new residual\n",
    "    \n",
    "    stop = perf_counter()\n",
    "    time = stop - start\n",
    "    return x.reshape((N+1, N+1)), count, time  # Reshape the solution into (N+1)x(N+1) grid"
   ]
  },
  {
   "cell_type": "code",
   "execution_count": 66,
   "id": "f81b0eb2-a6bf-46ad-815b-1d54fc34a5f4",
   "metadata": {},
   "outputs": [
    {
     "data": {
      "image/png": "[encoded data removed]",
      "text/plain": [
       "<Figure size 640x480 with 2 Axes>"
      ]
     },
     "metadata": {},
     "output_type": "display_data"
    }
   ],
   "source": [
    "# Example usage\n",
    "N = 30  # Grid size\n",
    "U0 = np.ones((N+1, N+1))  # Random initial guess\n",
    "u, count, time = restarted_gmres(U0, 50, N, tol=1e-4)\n",
    "\n",
    "# Plot the result\n",
    "plt.imshow(u, extent=[0, 1, 0, 1])\n",
    "plt.colorbar()\n",
    "plt.title(f\"Solution obtained using GMRES (Iterations: {count}, Time: {time:.4f}s)\")\n",
    "plt.show()"
   ]
  },
  {
   "cell_type": "markdown",
   "id": "72d21da9-8ed4-4216-8867-0d0991a6b047",
   "metadata": {},
   "source": [
    "### Task (2)\n",
    "\n",
    "First define the jacobi iteration, residual, restriction and interpolation functions."
   ]
  },
  {
   "cell_type": "code",
   "execution_count": 80,
   "id": "f87690b8-4fb2-4a30-ac33-9e366b46455e",
   "metadata": {},
   "outputs": [],
   "source": [
    "def jacobi_relax(u, rhs, omega, N, nu, v):\n",
    "    \"\"\"\n",
    "    Perform weighted Jacobi iterations with upwind differencing for advection.\n",
    "    \n",
    "    Parameters:\n",
    "        u: Initial guess (N+1)x(N+1) matrix.\n",
    "        rhs: Right-hand side (N+1)x(N+1) matrix.\n",
    "        omega: Relaxation parameter.\n",
    "        N: Grid size.\n",
    "        nu: Number of Jacobi iterations.\n",
    "        v: Velocity field [v_x, v_y].\n",
    "        \n",
    "    Returns:\n",
    "        Updated solution u after nu iterations.\n",
    "    \"\"\"\n",
    "    h = 1 / N\n",
    "    index = np.arange(1, N)  # Indices corresponding to internal nodes\n",
    "    ixy = np.ix_(index, index)\n",
    "    ixm_y = np.ix_(index - 1, index)  # i-1, j\n",
    "    ixp_y = np.ix_(index + 1, index)  # i+1, j\n",
    "    ix_ym = np.ix_(index, index - 1)  # i, j-1\n",
    "    ix_yp = np.ix_(index, index + 1)  # i, j+1\n",
    "    \n",
    "    div = (4 + v[0] * h + v[1] * h) # Denominator includes advection terms\n",
    "    for k in range(nu):\n",
    "        u_new = u.copy()  # Create a copy to avoid overwriting in the same iteration\n",
    "        # Jacobi iteration with upwind differencing for advection\n",
    "        u_new[ixy] = ((1 - omega) * u[ixy] + \n",
    "                     omega*( (u[ixp_y] + u[ixm_y] * (1 + v[0] * h) + \n",
    "                      u[ix_yp] + u[ix_ym] * (1 + v[1] * h))/div + (rhs[ixy]/div) ))\n",
    "        u = u_new  #Update the solution\n",
    "    return u\n",
    "\n",
    "def mgv_lhs_func(U, v = np.array([1,1])):\n",
    "    \"\"\"Computes the left-hand side vector based on the input array U for a diffusion-advection problem.\"\"\"\n",
    "    # Check if U is 1D or 2D and reshape if necessary\n",
    "    if U.ndim == 1:\n",
    "        N = int(np.sqrt(U.size)) - 1  # Infer N from the size of U\n",
    "        U = np.reshape(U, (N + 1, N + 1))  # Reshape to (N+1, N+1)\n",
    "    elif U.ndim == 2:\n",
    "        N = U.shape[0] - 1  # Infer N from the shape of U\n",
    "    else:\n",
    "        raise ValueError(\"Input array U must be either 1D or 2D.\")\n",
    "    \n",
    "    # Grid spacing\n",
    "    h = 1 / N\n",
    "    lhs = np.zeros((N + 1, N + 1))  # Initialize LHS with zeros\n",
    "\n",
    "    # Compute the LHS values for internal points (excluding boundaries)\n",
    "    for i in range(1, N):  # Skip boundaries\n",
    "        for j in range(1, N):\n",
    "            lhs[i, j] = (4 * U[i, j] - U[i + 1, j] - U[i - 1, j] - U[i, j + 1] - U[i, j - 1]\n",
    "                          + v[0] * h * (U[i, j] - U[i - 1, j]) + v[1] * h * (U[i, j] - U[i, j - 1]))\n",
    "    \n",
    "    return lhs\n",
    "    \n",
    "def residual(u, rhs, N):\n",
    "    \"\"\"\n",
    "    Compute the residual r = rhs - A @ u, where A is the discretized operator.\n",
    "    \n",
    "    Parameters:\n",
    "        u: Current solution (N+1)x(N+1) matrix.\n",
    "        rhs: Right-hand side (N+1)x(N+1) matrix.\n",
    "        N: Grid size.\n",
    "        \n",
    "    Returns:\n",
    "        Residual matrix.\n",
    "    \"\"\"\n",
    "    r = np.zeros_like(u)\n",
    "    h = 1/N\n",
    "    r = rhs -  mgv_lhs_func(u, v = np.array([1,1]))\n",
    "    return r\n",
    "\n",
    "def restriction(r, N):\n",
    "    \"\"\"\n",
    "    Restrict the residual to a coarser grid using full-weighting.\n",
    "    \n",
    "    Parameters:\n",
    "        r: Residual matrix (N+1)x(N+1).\n",
    "        N: Grid size of the fine grid.\n",
    "        \n",
    "    Returns:\n",
    "        Restricted residual on the coarser grid.\n",
    "    \"\"\"\n",
    "    Nc = N // 2\n",
    "    rc = np.zeros((Nc + 1, Nc + 1))\n",
    "    for i in range(1, Nc):\n",
    "        for j in range(1, Nc):\n",
    "            rc[i, j] = (1/4) * (r[2*i, 2*j] + r[2*i-1, 2*j] + r[2*i, 2*j-1] + r[2*i-1, 2*j-1])\n",
    "    return rc\n",
    "\n",
    "def interpolation(e, N):\n",
    "    \"\"\"\n",
    "    Interpolate the error from the coarse grid to the fine grid using linear interpolation.\n",
    "    \n",
    "    Parameters:\n",
    "        e: Error matrix (N/2+1)x(N/2+1).\n",
    "        N: Grid size of the fine grid.\n",
    "        \n",
    "    Returns:\n",
    "        Interpolated error matrix on the fine grid.\n",
    "    \"\"\"\n",
    "    nf = N + 1\n",
    "    ef = np.zeros((nf, nf))\n",
    "    for i in range(1, N // 2):\n",
    "        for j in range(1, N // 2):\n",
    "            ef[2*i, 2*j] += e[i, j]\n",
    "            ef[2*i-1, 2*j] += 0.5 * e[i, j]\n",
    "            ef[2*i, 2*j-1] += 0.5 * e[i, j]\n",
    "            ef[2*i-1, 2*j-1] += 0.25 * e[i, j]\n",
    "    return ef"
   ]
  },
  {
   "cell_type": "markdown",
   "id": "d72fe293-a2d1-491a-b48e-8fc550d48d7d",
   "metadata": {},
   "source": [
    "Make the multigrid V-cycle function"
   ]
  },
  {
   "cell_type": "code",
   "execution_count": 96,
   "id": "65b619ff-cf94-4b9b-a39c-f3cfb4b63625",
   "metadata": {},
   "outputs": [],
   "source": [
    "def mgv(u0, rhs, v, N, nu1, nu2, level, max_level):\n",
    "    \"\"\"\n",
    "    Perform one multigrid V-cycle on the 2D advection-diffusion equation.\n",
    "\n",
    "    Parameters:\n",
    "        u0: Initial guess (N+1)x(N+1) matrix.\n",
    "        rhs: Right-hand side (N+1)x(N+1) matrix.\n",
    "        v: Velocity field (not used in the given context).\n",
    "        N: Grid size.\n",
    "        nu1: Number of pre-smoothings.\n",
    "        nu2: Number of post-smoothings.\n",
    "        level: Current level of the V-cycle.\n",
    "        max_level: Total number of levels.\n",
    "        \n",
    "    Returns:\n",
    "        u: The computed solution vector\n",
    "        count: Number of iterations\n",
    "        time: Converging time\n",
    "        \n",
    "    \"\"\"\n",
    "    start = perf_counter()\n",
    "    count = 0\n",
    "    if level == max_level or N <10:\n",
    "        # On the coarsest level, solve using GMRES\n",
    "        u = restarted_gmres(U0, max_level, N//2**max_level, tol=1e-4, v=np.array([1, 1]))\n",
    "        return u\n",
    "    else:\n",
    "        u = jacobi_relax(u0, rhs, 2/3, N, nu1,v) # Pre-smoothing\n",
    "        rf = residual(u, rhs, N)         # Compute the residual\n",
    "        rc = restriction(rf, N)          # Restrict the residual to a coarser grid\n",
    "        count +=1 \n",
    "        ec = mgv(np.zeros_like(rc), rc, v, N // 2, nu1, nu2, level + 1, max_level)   #Recursive call on the coarser grid\n",
    "        ef = interpolation(ec, N // 2)   # Interpolate the error back to the fine grid\n",
    "        u += ef                          # Update the solution with the interpolated error\n",
    "        u = jacobi(u, rhs, 2/3, N, nu2)  # Post-smoothing\n",
    "    stop = perf_counter()\n",
    "    time = stop - start\n",
    "    return u, count, time"
   ]
  },
  {
   "cell_type": "markdown",
   "id": "443b6b5e-71c1-4edf-85d4-430fc8cc0e55",
   "metadata": {},
   "source": [
    "### Task (3)\n",
    "\n",
    "Solve a problem"
   ]
  },
  {
   "cell_type": "code",
   "execution_count": 100,
   "id": "31449e16-81d8-4c95-86b0-b4dc719a5901",
   "metadata": {},
   "outputs": [
    {
     "ename": "IndexError",
     "evalue": "index 31 is out of bounds for axis 0 with size 31",
     "output_type": "error",
     "traceback": [
      "\u001b[1;31m---------------------------------------------------------------------------\u001b[0m",
      "\u001b[1;31mIndexError\u001b[0m                                Traceback (most recent call last)",
      "Cell \u001b[1;32mIn[100], line 7\u001b[0m\n\u001b[0;32m      4\u001b[0m rhs \u001b[38;5;241m=\u001b[39m rhs_func(N, v\u001b[38;5;241m=\u001b[39mnp\u001b[38;5;241m.\u001b[39marray([\u001b[38;5;241m1\u001b[39m, \u001b[38;5;241m1\u001b[39m]))\n\u001b[0;32m      5\u001b[0m v \u001b[38;5;241m=\u001b[39m np\u001b[38;5;241m.\u001b[39marray([\u001b[38;5;241m1\u001b[39m,\u001b[38;5;241m1\u001b[39m])\n\u001b[1;32m----> 7\u001b[0m u_mgv, count_mgv, time_mgv \u001b[38;5;241m=\u001b[39m mgv(u0, rhs, v, N \u001b[38;5;241m=\u001b[39m \u001b[38;5;241m100\u001b[39m, nu1 \u001b[38;5;241m=\u001b[39m \u001b[38;5;241m10\u001b[39m, nu2 \u001b[38;5;241m=\u001b[39m \u001b[38;5;241m10\u001b[39m, level \u001b[38;5;241m=\u001b[39m \u001b[38;5;241m1\u001b[39m, max_level\u001b[38;5;241m=\u001b[39m \u001b[38;5;241m5\u001b[39m)\n",
      "Cell \u001b[1;32mIn[96], line 28\u001b[0m, in \u001b[0;36mmgv\u001b[1;34m(u0, rhs, v, N, nu1, nu2, level, max_level)\u001b[0m\n\u001b[0;32m     26\u001b[0m     \u001b[38;5;28;01mreturn\u001b[39;00m u\n\u001b[0;32m     27\u001b[0m \u001b[38;5;28;01melse\u001b[39;00m:\n\u001b[1;32m---> 28\u001b[0m     u \u001b[38;5;241m=\u001b[39m jacobi_relax(u0, rhs, \u001b[38;5;241m2\u001b[39m\u001b[38;5;241m/\u001b[39m\u001b[38;5;241m3\u001b[39m, N, nu1,v) \u001b[38;5;66;03m# Pre-smoothing\u001b[39;00m\n\u001b[0;32m     29\u001b[0m     rf \u001b[38;5;241m=\u001b[39m residual(u, rhs, N)         \u001b[38;5;66;03m# Compute the residual\u001b[39;00m\n\u001b[0;32m     30\u001b[0m     rc \u001b[38;5;241m=\u001b[39m restriction(rf, N)          \u001b[38;5;66;03m# Restrict the residual to a coarser grid\u001b[39;00m\n",
      "Cell \u001b[1;32mIn[80], line 28\u001b[0m, in \u001b[0;36mjacobi_relax\u001b[1;34m(u, rhs, omega, N, nu, v)\u001b[0m\n\u001b[0;32m     26\u001b[0m     u_new \u001b[38;5;241m=\u001b[39m u\u001b[38;5;241m.\u001b[39mcopy()  \u001b[38;5;66;03m# Create a copy to avoid overwriting in the same iteration\u001b[39;00m\n\u001b[0;32m     27\u001b[0m     \u001b[38;5;66;03m# Jacobi iteration with upwind differencing for advection\u001b[39;00m\n\u001b[1;32m---> 28\u001b[0m     u_new[ixy] \u001b[38;5;241m=\u001b[39m ((\u001b[38;5;241m1\u001b[39m \u001b[38;5;241m-\u001b[39m omega) \u001b[38;5;241m*\u001b[39m u[ixy] \u001b[38;5;241m+\u001b[39m \n\u001b[0;32m     29\u001b[0m                  omega\u001b[38;5;241m*\u001b[39m( (u[ixp_y] \u001b[38;5;241m+\u001b[39m u[ixm_y] \u001b[38;5;241m*\u001b[39m (\u001b[38;5;241m1\u001b[39m \u001b[38;5;241m+\u001b[39m v[\u001b[38;5;241m0\u001b[39m] \u001b[38;5;241m*\u001b[39m h) \u001b[38;5;241m+\u001b[39m \n\u001b[0;32m     30\u001b[0m                   u[ix_yp] \u001b[38;5;241m+\u001b[39m u[ix_ym] \u001b[38;5;241m*\u001b[39m (\u001b[38;5;241m1\u001b[39m \u001b[38;5;241m+\u001b[39m v[\u001b[38;5;241m1\u001b[39m] \u001b[38;5;241m*\u001b[39m h))\u001b[38;5;241m/\u001b[39mdiv \u001b[38;5;241m+\u001b[39m (rhs[ixy]\u001b[38;5;241m/\u001b[39mdiv) ))\n\u001b[0;32m     31\u001b[0m     u \u001b[38;5;241m=\u001b[39m u_new  \u001b[38;5;66;03m#Update the solution\u001b[39;00m\n\u001b[0;32m     32\u001b[0m \u001b[38;5;28;01mreturn\u001b[39;00m u\n",
      "\u001b[1;31mIndexError\u001b[0m: index 31 is out of bounds for axis 0 with size 31"
     ]
    }
   ],
   "source": [
    "#Problems with the grid sizes in the lhs_func when the mgv function is called recursively\n",
    "\n",
    "u0 = np.zeros((N+1,N+1))\n",
    "rhs = rhs_func(N, v=np.array([1, 1]))\n",
    "v = np.array([1,1])\n",
    "\n",
    "u_mgv, count_mgv, time_mgv = mgv(u0, rhs, v, N = 100, nu1 = 10, nu2 = 10, level = 1, max_level= 5)"
   ]
  },
  {
   "cell_type": "markdown",
   "id": "1b8dcbd2-e0de-4c38-8fab-c8cb270a0943",
   "metadata": {},
   "source": [
    "### Task (4) \n",
    "\n",
    "Need to change the vector product Ax with the lhs_func."
   ]
  },
  {
   "cell_type": "code",
   "execution_count": null,
   "id": "15abf8e5-dc8f-4cca-b36e-0f94d718867d",
   "metadata": {},
   "outputs": [],
   "source": [
    "def precon_gmres(A, b, x0, restart_k, nu1, nu2, max_level, tol=1e-4):\n",
    "    \"\"\"\n",
    "    Preconditioned GMRES method using Arnoldi's method to solve Ax = b.\n",
    "\n",
    "    Parameters:\n",
    "        A: The input matrix (n x n).\n",
    "        b: The right-hand side vector (n x 1).\n",
    "        x0: Initial guess for the solution (n x 1).\n",
    "        restart_k: Number of iterations before restart.\n",
    "        nu1: Number of pre-smoothings for multigrid.\n",
    "        nu2: Number of post-smoothings for multigrid.\n",
    "        max_level: Maximum levels for multigrid.\n",
    "        tol: Convergence tolerance.\n",
    "    \n",
    "    Returns:\n",
    "        x: The computed solution vector\n",
    "        count: NUmber of iterations\n",
    "        time: Converging time\n",
    "        \n",
    "    \"\"\"\n",
    "    start = perf_counter() \n",
    "    n = A.shape[0]\n",
    "    x = x0.copy()\n",
    "    r_0 = b - A.dot(x)\n",
    "    norm_r0 = np.linalg.norm(r_0)\n",
    "    count = 0\n",
    "    \n",
    "    if norm_r0 < tol:  # Already converged\n",
    "        return x\n",
    "    beta = norm_r0\n",
    "    v_1 = r_0 / beta  # Normalize the initial residual\n",
    "    while True:\n",
    "        V, H = arnoldi(A, v_1, restart_k) # Perform Arnoldi process to create an orthonormal basis\n",
    "        z = mgv(np.zeros((N+1,N+1)), rhs, v, N, nu1, nu2, level, max_level).flatten() # Compute the preconditioned residual\n",
    "        y = np.linalg.solve(H, np.dot(V.T, z))  # Solve the least squares problem using the preconditioned residual\n",
    "        x += V @ y  #Update the solution\n",
    "        r_k = b - A.dot(x)  #New residual\n",
    "        count +=1\n",
    "        # Check convergence\n",
    "        if np.linalg.norm(r_k) / norm_r0 < tol:\n",
    "            break\n",
    "        # Prepare for the next restart\n",
    "        r_0 = r_k  # Update the residual for the next iteration\n",
    "        beta = np.linalg.norm(r_0)\n",
    "        v_1 = r_0 / beta  # Normalize the new residual\n",
    "    stop = perf_counter() \n",
    "    time = stop - start\n",
    "    return x, count, time\n"
   ]
  }
 ],
 "metadata": {
  "kernelspec": {
   "display_name": "Python 3 (ipykernel)",
   "language": "python",
   "name": "python3"
  },
  "language_info": {
   "codemirror_mode": {
    "name": "ipython",
    "version": 3
   },
   "file_extension": ".py",
   "mimetype": "text/x-python",
   "name": "python",
   "nbconvert_exporter": "python",
   "pygments_lexer": "ipython3",
   "version": "3.11.5"
  }
 },
 "nbformat": 4,
 "nbformat_minor": 5
}
